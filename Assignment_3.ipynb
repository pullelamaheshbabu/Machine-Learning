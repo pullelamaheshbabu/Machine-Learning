{
  "nbformat": 4,
  "nbformat_minor": 0,
  "metadata": {
    "colab": {
      "provenance": [],
      "authorship_tag": "ABX9TyOKphKh8KotTzuKFY9oCsku",
      "include_colab_link": true
    },
    "kernelspec": {
      "name": "python3",
      "display_name": "Python 3"
    },
    "language_info": {
      "name": "python"
    }
  },
  "cells": [
    {
      "cell_type": "markdown",
      "metadata": {
        "id": "view-in-github",
        "colab_type": "text"
      },
      "source": [
        "<a href=\"https://colab.research.google.com/github/pullelamaheshbabu/Machine-Learning/blob/main/Assignment_3.ipynb\" target=\"_parent\"><img src=\"https://colab.research.google.com/assets/colab-badge.svg\" alt=\"Open In Colab\"/></a>"
      ]
    },
    {
      "cell_type": "code",
      "execution_count": 1,
      "metadata": {
        "colab": {
          "base_uri": "https://localhost:8080/"
        },
        "id": "JazhTOYujoT6",
        "outputId": "b340db44-595b-4e49-ab79-4f0686d39a2f"
      },
      "outputs": [
        {
          "output_type": "stream",
          "name": "stdout",
          "text": [
            "Reshaped array (3x5) with max in each row replaced by 0:\n",
            "[[ 8  7 15  0  1]\n",
            " [ 9 18 17  0 17]\n",
            " [14 13  5  0 15]]\n",
            "Shape of reshaped array: (3, 5)\n",
            "\n",
            "2D array of size 4x3 with 4-byte integer elements:\n",
            "[[0 0 0]\n",
            " [0 0 0]\n",
            " [0 0 0]\n",
            " [0 0 0]]\n",
            "Shape of 2D array: (4, 3)\n",
            "Type of 2D array: <class 'numpy.ndarray'>\n",
            "Data type of 2D array: int32\n"
          ]
        }
      ],
      "source": [
        "import numpy as np\n",
        "\n",
        "# Part a: Create a random vector of size 15 with integers in the range 1-20\n",
        "random_vector = np.random.randint(1, 21, size=15)\n",
        "\n",
        "# 1. Reshape the array to 3 by 5\n",
        "reshaped_array = random_vector.reshape(3, 5)\n",
        "\n",
        "# 2. Print array shape\n",
        "array_shape = reshaped_array.shape\n",
        "\n",
        "# 3. Replace the max in each row by 0\n",
        "for i in range(reshaped_array.shape[0]):\n",
        "    reshaped_array[i, reshaped_array[i].argmax()] = 0\n",
        "\n",
        "# Part b: Create a 2-dimensional array of size 4 x 3 with 4-byte integer elements\n",
        "array_4x3 = np.zeros((4, 3), dtype=np.int32)\n",
        "\n",
        "# Get the shape, type, and data type of the array\n",
        "array_4x3_shape = array_4x3.shape\n",
        "array_4x3_type = type(array_4x3)\n",
        "array_4x3_dtype = array_4x3.dtype\n",
        "\n",
        "# Print the outputs\n",
        "print(\"Reshaped array (3x5) with max in each row replaced by 0:\")\n",
        "print(reshaped_array)\n",
        "print(\"Shape of reshaped array:\", array_shape)\n",
        "print(\"\\n2D array of size 4x3 with 4-byte integer elements:\")\n",
        "print(array_4x3)\n",
        "print(\"Shape of 2D array:\", array_4x3_shape)\n",
        "print(\"Type of 2D array:\", array_4x3_type)\n",
        "print(\"Data type of 2D array:\", array_4x3_dtype)\n"
      ]
    },
    {
      "cell_type": "code",
      "source": [
        "import numpy as np\n",
        "\n",
        "# Define the square array\n",
        "square_array = np.array([[3, -2], [1, 0]])\n",
        "\n",
        "# Compute the eigenvalues and right eigenvectors\n",
        "eigenvalues, eigenvectors = np.linalg.eig(square_array)\n",
        "\n",
        "# Print the results\n",
        "print(\"Eigenvalues:\")\n",
        "print(eigenvalues)\n",
        "print(\"\\nRight Eigenvectors:\")\n",
        "print(eigenvectors)\n"
      ],
      "metadata": {
        "colab": {
          "base_uri": "https://localhost:8080/"
        },
        "id": "OeawNGLrkAum",
        "outputId": "21fdf79a-fcb8-4540-c4e7-4a68f539edd1"
      },
      "execution_count": 2,
      "outputs": [
        {
          "output_type": "stream",
          "name": "stdout",
          "text": [
            "Eigenvalues:\n",
            "[2. 1.]\n",
            "\n",
            "Right Eigenvectors:\n",
            "[[0.89442719 0.70710678]\n",
            " [0.4472136  0.70710678]]\n"
          ]
        }
      ]
    },
    {
      "cell_type": "code",
      "source": [
        "import numpy as np\n",
        "\n",
        "# Define the given array\n",
        "array = np.array([0, 1, 2, 3, 4, 5])\n",
        "\n",
        "# Reshape the array into a 2x3 matrix\n",
        "matrix = array.reshape(2, 3)\n",
        "\n",
        "# Compute the sum of the diagonal elements\n",
        "diagonal_sum = np.trace(matrix)\n",
        "\n",
        "print(\"Sum of the diagonal elements:\", diagonal_sum)\n",
        "\n"
      ],
      "metadata": {
        "colab": {
          "base_uri": "https://localhost:8080/"
        },
        "id": "VN3fHQu_kM38",
        "outputId": "3c76cd72-4b9a-4545-8728-a270933ccac2"
      },
      "execution_count": 4,
      "outputs": [
        {
          "output_type": "stream",
          "name": "stdout",
          "text": [
            "Sum of the diagonal elements: 4\n"
          ]
        }
      ]
    },
    {
      "cell_type": "code",
      "source": [
        "import numpy as np\n",
        "\n",
        "# Define the given 3x2 array\n",
        "array_3x2 = np.array([[1, 2], [3, 4], [5, 6]])\n",
        "\n",
        "# Reshape the array to 2x3\n",
        "array_2x3 = array_3x2.reshape(2, 3)\n",
        "\n",
        "# Print the reshaped array\n",
        "print(\"Original 3x2 array:\")\n",
        "print(array_3x2)\n",
        "print(\"\\nReshaped 2x3 array:\")\n",
        "print(array_2x3)\n"
      ],
      "metadata": {
        "colab": {
          "base_uri": "https://localhost:8080/"
        },
        "id": "MtYI9YBylKXG",
        "outputId": "bf1ee106-39d2-4ce0-fd68-8de7b8995d72"
      },
      "execution_count": 5,
      "outputs": [
        {
          "output_type": "stream",
          "name": "stdout",
          "text": [
            "Original 3x2 array:\n",
            "[[1 2]\n",
            " [3 4]\n",
            " [5 6]]\n",
            "\n",
            "Reshaped 2x3 array:\n",
            "[[1 2 3]\n",
            " [4 5 6]]\n"
          ]
        }
      ]
    }
  ]
}