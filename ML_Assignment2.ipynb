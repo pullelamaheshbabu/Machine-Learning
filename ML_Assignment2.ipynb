{
  "nbformat": 4,
  "nbformat_minor": 0,
  "metadata": {
    "colab": {
      "provenance": []
    },
    "kernelspec": {
      "name": "python3",
      "display_name": "Python 3"
    },
    "language_info": {
      "name": "python"
    }
  },
  "cells": [
    {
      "cell_type": "code",
      "execution_count": 18,
      "metadata": {
        "colab": {
          "base_uri": "https://localhost:8080/"
        },
        "id": "DInnfKGNhfJS",
        "outputId": "c1048ea2-ce13-428d-f44f-a4b759a0a99b"
      },
      "outputs": [
        {
          "output_type": "stream",
          "name": "stdout",
          "text": [
            "\r\n",
            "* \r\n",
            "* * \r\n",
            "* * * \r\n",
            "* * * * \r\n",
            "* * * * * \r\n",
            "* * * * \r\n",
            "* * * \r\n",
            "* * \r\n",
            "* \r\n"
          ]
        }
      ],
      "source": [
        "star = '*'\n",
        "for i in range(1,6):\n",
        "  for j in range(1,i):\n",
        "    print(\"*\",end=' ')\n",
        "  print(\"\\r\")\n",
        "for i in range(6,1,-1):\n",
        "  for j in range(1,i):\n",
        "    print(\"*\",end=' ')\n",
        "  print(\"\\r\")\n"
      ]
    },
    {
      "cell_type": "code",
      "source": [
        "my_list = [10,20,30,40,50,60,70,80,90,100]\n",
        "for i in my_list[1::2]:\n",
        "  print(i,end=\" \")\n",
        ""
      ],
      "metadata": {
        "colab": {
          "base_uri": "https://localhost:8080/"
        },
        "id": "873KZpAuq4bj",
        "outputId": "a013df48-5188-430b-8779-f71ffe992290"
      },
      "execution_count": 19,
      "outputs": [
        {
          "output_type": "stream",
          "name": "stdout",
          "text": [
            "20 40 60 80 100 "
          ]
        }
      ]
    },
    {
      "cell_type": "code",
      "source": [
        "x = [23, 'Python', 23.98]\n",
        "types = []\n",
        "for i in x:\n",
        "  types.append(type(i))\n",
        "print(x)\n",
        "print(types)"
      ],
      "metadata": {
        "colab": {
          "base_uri": "https://localhost:8080/"
        },
        "id": "SSQrXe76t1uC",
        "outputId": "f2c2bda3-fac8-40db-b914-105d4abdcc89"
      },
      "execution_count": 20,
      "outputs": [
        {
          "output_type": "stream",
          "name": "stdout",
          "text": [
            "[23, 'Python', 23.98]\n",
            "[<class 'int'>, <class 'str'>, <class 'float'>]\n"
          ]
        }
      ]
    },
    {
      "cell_type": "code",
      "source": [
        "sample_List=[1,2,3,3,3,3,4,5]\n",
        "unique_List=[]\n",
        "for i in sample_List:\n",
        "  if i not in unique_List:\n",
        "    unique_List. append (i)\n",
        "print(sample_List)\n",
        "print(unique_List)"
      ],
      "metadata": {
        "colab": {
          "base_uri": "https://localhost:8080/"
        },
        "id": "JQoTIKIXuOGJ",
        "outputId": "2434693f-1864-4d4f-b57b-dbd74e74c8be"
      },
      "execution_count": 22,
      "outputs": [
        {
          "output_type": "stream",
          "name": "stdout",
          "text": [
            "[1, 2, 3, 3, 3, 3, 4, 5]\n",
            "[1, 2, 3, 4, 5]\n"
          ]
        }
      ]
    },
    {
      "cell_type": "code",
      "source": [
        "def count_case(string) :\n",
        "  upper_count = 0\n",
        "  lower_count = 0\n",
        "  for char in string:\n",
        "    if char. isupper():\n",
        "      upper_count += 1\n",
        "    elif char.islower():\n",
        "      lower_count += 1\n",
        "  return upper_count, lower_count\n",
        "input_string = 'The quick Brow Fox'\n",
        "upper_count, lower_count = count_case(input_string)\n",
        "\n",
        "print(\"No. of Upper-case characters:\", upper_count)\n",
        "print(\"No. of Lower-case Characters:\", lower_count)"
      ],
      "metadata": {
        "colab": {
          "base_uri": "https://localhost:8080/"
        },
        "id": "L-ibYymVui_V",
        "outputId": "accd15a2-cc97-468a-ea83-8661ce2c3616"
      },
      "execution_count": 23,
      "outputs": [
        {
          "output_type": "stream",
          "name": "stdout",
          "text": [
            "No. of Upper-case characters: 3\n",
            "No. of Lower-case Characters: 12\n"
          ]
        }
      ]
    }
  ]
}