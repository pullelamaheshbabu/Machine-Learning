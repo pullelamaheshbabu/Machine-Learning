{
  "nbformat": 4,
  "nbformat_minor": 0,
  "metadata": {
    "colab": {
      "provenance": [],
      "authorship_tag": "ABX9TyNnyLHqeNTyy+0m4OSg/vl+",
      "include_colab_link": true
    },
    "kernelspec": {
      "name": "python3",
      "display_name": "Python 3"
    },
    "language_info": {
      "name": "python"
    }
  },
  "cells": [
    {
      "cell_type": "markdown",
      "metadata": {
        "id": "view-in-github",
        "colab_type": "text"
      },
      "source": [
        "<a href=\"https://colab.research.google.com/github/pullelamaheshbabu/Machine-Learning/blob/main/Assignment_4.ipynb\" target=\"_parent\"><img src=\"https://colab.research.google.com/assets/colab-badge.svg\" alt=\"Open In Colab\"/></a>"
      ]
    },
    {
      "cell_type": "code",
      "source": [
        "import pandas as pd\n",
        "from sklearn.decomposition import PCA\n",
        "from sklearn.cluster import KMeans\n",
        "from sklearn.preprocessing import StandardScaler\n",
        "from sklearn.metrics import silhouette_score\n",
        "\n",
        "# Load the CC dataset\n",
        "cc_data = pd.read_csv('CC GENERAL.csv')\n",
        "\n",
        "# Drop any non-numeric columns and handle missing values\n",
        "cc_data = cc_data.select_dtypes(include=[float, int]).dropna()\n",
        "\n",
        "# Sample a subset of the data\n",
        "cc_data_sampled = cc_data.sample(n=1000, random_state=42)\n",
        "\n",
        "# Apply PCA\n",
        "scaler = StandardScaler()\n",
        "cc_scaled = scaler.fit_transform(cc_data_sampled)\n",
        "pca = PCA(n_components=2)\n",
        "cc_pca = pca.fit_transform(cc_scaled)\n",
        "\n",
        "# Apply k-means algorithm on the PCA result\n",
        "kmeans = KMeans(n_clusters=3, random_state=42)\n",
        "cc_kmeans = kmeans.fit_predict(cc_pca)\n",
        "\n",
        "# Calculate silhouette score\n",
        "silhouette_avg = silhouette_score(cc_pca, cc_kmeans)\n",
        "print(f'Silhouette Score after PCA: {silhouette_avg}')\n",
        "\n",
        "# Perform Scaling + PCA + K-Means\n",
        "kmeans_scaled = KMeans(n_clusters=3, random_state=42)\n",
        "cc_kmeans_scaled = kmeans_scaled.fit_predict(cc_scaled)\n",
        "\n",
        "# Calculate silhouette score for scaled data\n",
        "silhouette_avg_scaled = silhouette_score(cc_scaled, cc_kmeans_scaled)\n",
        "print(f'Silhouette Score after Scaling + PCA + K-Means: {silhouette_avg_scaled}')\n",
        "\n",
        "import pandas as pd\n",
        "from sklearn.decomposition import PCA\n",
        "from sklearn.preprocessing import StandardScaler\n",
        "from sklearn.svm import SVC\n",
        "from sklearn.model_selection import train_test_split\n",
        "from sklearn.metrics import accuracy_score\n",
        "\n",
        "# Load the pd_speech_features dataset\n",
        "speech_data = pd.read_csv('pd_speech_features.csv')\n",
        "\n",
        "# Separate features and target\n",
        "X_speech = speech_data.drop(columns=['class'])\n",
        "y_speech = speech_data['class']\n",
        "\n",
        "# Perform Scaling\n",
        "scaler = StandardScaler()\n",
        "X_speech_scaled = scaler.fit_transform(X_speech)\n",
        "\n",
        "# Apply PCA (k=3)\n",
        "pca = PCA(n_components=3)\n",
        "X_speech_pca = pca.fit_transform(X_speech_scaled)\n",
        "\n",
        "# Split the data into training and testing sets\n",
        "X_train, X_test, y_train, y_test = train_test_split(X_speech_pca, y_speech, test_size=0.2, random_state=42)\n",
        "\n",
        "# Use SVM to report performance\n",
        "svm = SVC()\n",
        "svm.fit(X_train, y_train)\n",
        "y_pred = svm.predict(X_test)\n",
        "accuracy = accuracy_score(y_test, y_pred)\n",
        "print(f'SVM Accuracy after PCA (k=3): {accuracy}')\n",
        "\n",
        "import pandas as pd\n",
        "from sklearn.discriminant_analysis import LinearDiscriminantAnalysis as LDA\n",
        "\n",
        "# Load the Iris dataset\n",
        "iris_df = pd.read_csv(\"Iris.csv\")\n",
        "\n",
        "# Separate features and target\n",
        "X = iris_df.iloc[:, :-1]  # all columns except the last one\n",
        "y = iris_df.iloc[:, -1]   # the last column\n",
        "\n",
        "# Apply Linear Discriminant Analysis (LDA)\n",
        "lda = LDA(n_components=2)\n",
        "X_lda = lda.fit_transform(X, y)\n",
        "\n",
        "# Create a new DataFrame with the LDA results\n",
        "lda_df = pd.DataFrame(X_lda, columns=['LD1', 'LD2'])\n",
        "lda_df['target'] = y\n",
        "\n",
        "# Save the transformed dataset to a new CSV file\n",
        "lda_df.to_csv(\"Iris_LDA.csv\", index=False)"
      ],
      "metadata": {
        "colab": {
          "base_uri": "https://localhost:8080/"
        },
        "id": "jA4g6nTPljIl",
        "outputId": "2fe2a189-8b08-44a9-c0c3-a97dc1e7abe6"
      },
      "execution_count": 3,
      "outputs": [
        {
          "output_type": "stream",
          "name": "stderr",
          "text": [
            "/usr/local/lib/python3.10/dist-packages/sklearn/cluster/_kmeans.py:870: FutureWarning: The default value of `n_init` will change from 10 to 'auto' in 1.4. Set the value of `n_init` explicitly to suppress the warning\n",
            "  warnings.warn(\n",
            "/usr/local/lib/python3.10/dist-packages/sklearn/cluster/_kmeans.py:870: FutureWarning: The default value of `n_init` will change from 10 to 'auto' in 1.4. Set the value of `n_init` explicitly to suppress the warning\n",
            "  warnings.warn(\n"
          ]
        },
        {
          "output_type": "stream",
          "name": "stdout",
          "text": [
            "Silhouette Score after PCA: 0.46193907300852377\n",
            "Silhouette Score after Scaling + PCA + K-Means: 0.24981672270778607\n",
            "SVM Accuracy after PCA (k=3): 0.7960526315789473\n"
          ]
        }
      ]
    }
  ]
}